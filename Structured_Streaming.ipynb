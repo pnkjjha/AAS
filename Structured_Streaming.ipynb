{
  "nbformat": 4,
  "nbformat_minor": 0,
  "metadata": {
    "colab": {
      "provenance": [],
      "authorship_tag": "ABX9TyOycMT3HXJJ0HyN0WzHCHa+",
      "include_colab_link": true
    },
    "kernelspec": {
      "name": "python3",
      "display_name": "Python 3"
    },
    "language_info": {
      "name": "python"
    }
  },
  "cells": [
    {
      "cell_type": "markdown",
      "metadata": {
        "id": "view-in-github",
        "colab_type": "text"
      },
      "source": [
        "<a href=\"https://colab.research.google.com/github/pnkjjha/AAS/blob/main/Structured_Streaming.ipynb\" target=\"_parent\"><img src=\"https://colab.research.google.com/assets/colab-badge.svg\" alt=\"Open In Colab\"/></a>"
      ]
    },
    {
      "cell_type": "code",
      "execution_count": 1,
      "metadata": {
        "colab": {
          "base_uri": "https://localhost:8080/"
        },
        "id": "Dh-8bNSmftZt",
        "outputId": "63571300-24c9-4a76-fb8d-30fc1bc42e9a"
      },
      "outputs": [
        {
          "output_type": "stream",
          "name": "stdout",
          "text": [
            "Collecting pyspark\n",
            "  Downloading pyspark-3.5.2.tar.gz (317.3 MB)\n",
            "\u001b[2K     \u001b[90m━━━━━━━━━━━━━━━━━━━━━━━━━━━━━━━━━━━━━━━━\u001b[0m \u001b[32m317.3/317.3 MB\u001b[0m \u001b[31m4.5 MB/s\u001b[0m eta \u001b[36m0:00:00\u001b[0m\n",
            "\u001b[?25h  Preparing metadata (setup.py) ... \u001b[?25l\u001b[?25hdone\n",
            "Requirement already satisfied: py4j==0.10.9.7 in /usr/local/lib/python3.10/dist-packages (from pyspark) (0.10.9.7)\n",
            "Building wheels for collected packages: pyspark\n",
            "  Building wheel for pyspark (setup.py) ... \u001b[?25l\u001b[?25hdone\n",
            "  Created wheel for pyspark: filename=pyspark-3.5.2-py2.py3-none-any.whl size=317812365 sha256=143d725f1ac0a3245103b8fe82634bcbdf6669df3220833f2a1324195850bb40\n",
            "  Stored in directory: /root/.cache/pip/wheels/34/34/bd/03944534c44b677cd5859f248090daa9fb27b3c8f8e5f49574\n",
            "Successfully built pyspark\n",
            "Installing collected packages: pyspark\n",
            "Successfully installed pyspark-3.5.2\n"
          ]
        }
      ],
      "source": [
        "!pip install pyspark"
      ]
    },
    {
      "cell_type": "code",
      "source": [
        "from pyspark.sql import SparkSession\n",
        "from pandas import json_normalize\n",
        "import pyspark.sql.functions as F\n",
        "import pyspark.sql.types as T\n",
        "import random\n",
        "import requests\n",
        "import json\n",
        "import os\n",
        "import pandas as pd\n",
        "import datetime"
      ],
      "metadata": {
        "id": "iytu5ZCLjr1p"
      },
      "execution_count": 2,
      "outputs": []
    },
    {
      "cell_type": "code",
      "source": [
        "spark=SparkSession.builder.appName('test').config(\"spark.sql.shuffle.partitions\", \"4\").getOrCreate()"
      ],
      "metadata": {
        "id": "F0tM6c5lka9g"
      },
      "execution_count": 180,
      "outputs": []
    },
    {
      "cell_type": "code",
      "source": [
        "# url = \"https://api.carbonintensity.org.uk/intensity\"\n",
        "\n",
        "# while switch:\n",
        "#   response = requests.get(url)\n",
        "#   json_normalize(response.json())\n",
        "#   message = response.json()\n",
        "#   json_normalize(message['data']).rename(columns={\"intensity.forecast\": \"intensity_forecast\",\\\n",
        "#                                                   \"intensity.actual\": \"intensity_actual\",\\\n",
        "#                                                   \"intensity.percentile\": \"intensity_percentile\",\\\n",
        "#                                                   \"intensity.index\": \"intensity_index\"\\\n",
        "#                                                   }).to_csv(\"intensity_\"+str(random.randint(1,10000))+\".csv\", index=False)\n"
      ],
      "metadata": {
        "id": "A0goOaF2Cj73"
      },
      "execution_count": null,
      "outputs": []
    },
    {
      "cell_type": "code",
      "source": [
        "# read lines from file\n",
        "def flat_json(line):\n",
        "  # convert line into json\n",
        "  line_json = json.loads(line)\n",
        "# json normalize\n",
        "  flatline = pd.json_normalize(line_json,sep=\"_\")\n",
        "  return flatline\n"
      ],
      "metadata": {
        "id": "KZWBwUmFzf6k"
      },
      "execution_count": 4,
      "outputs": []
    },
    {
      "cell_type": "markdown",
      "source": [
        "#Inputfile generation"
      ],
      "metadata": {
        "id": "hSpVmSc1FuVq"
      }
    },
    {
      "cell_type": "code",
      "source": [
        "%rm -rf input\n",
        "%mkdir input"
      ],
      "metadata": {
        "id": "WT9q5udv4D0g"
      },
      "execution_count": 181,
      "outputs": []
    },
    {
      "cell_type": "code",
      "source": [
        "datetime.datetime.strftime(datetime.datetime.utcnow(),\"%Y-%m-%d %H:%M:%S\")"
      ],
      "metadata": {
        "colab": {
          "base_uri": "https://localhost:8080/",
          "height": 36
        },
        "id": "GNiuj0S8Bn6C",
        "outputId": "b2026a3c-081a-4848-8f1a-dc1a4e2cfe2c"
      },
      "execution_count": 5,
      "outputs": [
        {
          "output_type": "execute_result",
          "data": {
            "text/plain": [
              "'2024-09-11 10:47:15'"
            ],
            "application/vnd.google.colaboratory.intrinsic+json": {
              "type": "string"
            }
          },
          "metadata": {},
          "execution_count": 5
        }
      ]
    },
    {
      "cell_type": "code",
      "source": [
        "i = 0\n",
        "s = requests.Session()\n",
        "url = \"https://stream.wikimedia.org/v2/stream/recentchange\"\n",
        "file_number = str(random.randint(1,10000))\n",
        "with s.get(url, stream=True) as resp:\n",
        "    for line in resp.iter_lines(1024,decode_unicode=True):\n",
        "        # Check if line has some bytes in it\n",
        "        if line:\n",
        "            # convert line into json\n",
        "            # get data lines only\n",
        "            if line[:4] == \"data\":\n",
        "                # print(line[5:])\n",
        "                json_line = json.loads(line[5:])\n",
        "                flatlines = pd.json_normalize(json_line,sep=\"_\")\n",
        "                with open(\"input/rc\"+str(random.randint(1,10000))+\".json\",\"a\",encoding=\"utf-8\") as f:\n",
        "                    flatlines.to_json(f,orient=\"records\",lines=True,index=False)\n",
        "                    i = i + 1\n",
        "                    if i>=9000 :\n",
        "                        break"
      ],
      "metadata": {
        "colab": {
          "base_uri": "https://localhost:8080/"
        },
        "id": "Vb3_FJkfrLmt",
        "outputId": "d1e21438-348b-40b7-e740-952fbfbe5393"
      },
      "execution_count": 94,
      "outputs": [
        {
          "output_type": "stream",
          "name": "stderr",
          "text": [
            "ERROR:root:Internal Python error in the inspect module.\n",
            "Below is the traceback from this internal error.\n",
            "\n",
            "\n",
            "KeyboardInterrupt\n",
            "\n"
          ]
        }
      ]
    },
    {
      "cell_type": "code",
      "source": [
        "%ls -l input | wc -l"
      ],
      "metadata": {
        "colab": {
          "base_uri": "https://localhost:8080/"
        },
        "id": "IWESPbFLC_4n",
        "outputId": "a3d09890-4304-46b8-eee2-e4bef7c1a883"
      },
      "execution_count": 182,
      "outputs": [
        {
          "output_type": "stream",
          "name": "stdout",
          "text": [
            "1\n"
          ]
        }
      ]
    },
    {
      "cell_type": "code",
      "source": [
        "flat_json_pdf[\"meta_dt\"].head(2)"
      ],
      "metadata": {
        "id": "YC4KnaEU1INX",
        "colab": {
          "base_uri": "https://localhost:8080/",
          "height": 115
        },
        "outputId": "c7c027ff-acb3-4ea1-f3ab-23f5c1e4029e"
      },
      "execution_count": null,
      "outputs": [
        {
          "output_type": "execute_result",
          "data": {
            "text/plain": [
              "0    2024-09-10T06:37:03Z\n",
              "Name: meta_dt, dtype: object"
            ],
            "text/html": [
              "<div>\n",
              "<style scoped>\n",
              "    .dataframe tbody tr th:only-of-type {\n",
              "        vertical-align: middle;\n",
              "    }\n",
              "\n",
              "    .dataframe tbody tr th {\n",
              "        vertical-align: top;\n",
              "    }\n",
              "\n",
              "    .dataframe thead th {\n",
              "        text-align: right;\n",
              "    }\n",
              "</style>\n",
              "<table border=\"1\" class=\"dataframe\">\n",
              "  <thead>\n",
              "    <tr style=\"text-align: right;\">\n",
              "      <th></th>\n",
              "      <th>meta_dt</th>\n",
              "    </tr>\n",
              "  </thead>\n",
              "  <tbody>\n",
              "    <tr>\n",
              "      <th>0</th>\n",
              "      <td>2024-09-10T06:37:03Z</td>\n",
              "    </tr>\n",
              "  </tbody>\n",
              "</table>\n",
              "</div><br><label><b>dtype:</b> object</label>"
            ]
          },
          "metadata": {},
          "execution_count": 8
        }
      ]
    },
    {
      "cell_type": "code",
      "source": [
        "# design schema here\n",
        "dSchema = T.StructType([\\\n",
        "   T.StructField(\"$Schema\", T.StringType())\\\n",
        "  ,T.StructField(\"id\", T.IntegerType())\\\n",
        "  ,T.StructField(\"type\", T.StringType())\\\n",
        "  ,T.StructField(\"namespace\", T.IntegerType())\\\n",
        "  ,T.StructField(\"title\", T.StringType())\\\n",
        "  ,T.StructField(\"title_url\", T.StringType())\\\n",
        "  ,T.StructField(\"comment\", T.StringType())\\\n",
        "  ,T.StructField(\"timestamp\", T.IntegerType())\\\n",
        "  ,T.StructField(\"user\", T.StringType())\\\n",
        "  ,T.StructField(\"bot\", T.BooleanType())\\\n",
        "  ,T.StructField(\"log_id\", T.IntegerType())\\\n",
        "  ,T.StructField(\"log_type\", T.StringType())\\\n",
        "  ,T.StructField(\"log_action\", T.StringType())\\\n",
        "  ,T.StructField(\"log_action_comment\", T.StringType())\\\n",
        "  ,T.StructField(\"server_url\", T.StringType())\\\n",
        "  ,T.StructField(\"server_name\", T.StringType())\\\n",
        "  ,T.StructField(\"server_script_path\", T.StringType())\\\n",
        "  ,T.StructField(\"wiki\", T.StringType())\\\n",
        "  ,T.StructField(\"parsedcomment\", T.StringType())\\\n",
        "  ,T.StructField(\"meta_uri\", T.StringType())\\\n",
        "  ,T.StructField(\"meta_request_id\", T.StringType())\\\n",
        "  ,T.StructField(\"meta_id\", T.StringType())\\\n",
        "  ,T.StructField(\"meta_dt\", T.TimestampType())\\\n",
        "  ,T.StructField(\"meta_domain\", T.StringType())\\\n",
        "  ,T.StructField(\"meta_stream\", T.StringType())\\\n",
        "  ,T.StructField(\"meta_topic\", T.StringType())\\\n",
        "  ,T.StructField(\"meta_partition\", T.IntegerType())\\\n",
        "  ,T.StructField(\"meta_offset\", T.IntegerType())\\\n",
        "  ,T.StructField(\"log_params_userid\", T.IntegerType())\\\n",
        "                      ])"
      ],
      "metadata": {
        "id": "WmJiMJef56cK"
      },
      "execution_count": 183,
      "outputs": []
    },
    {
      "cell_type": "markdown",
      "source": [
        "# Folder clean up"
      ],
      "metadata": {
        "id": "N30rEChCFXMJ"
      }
    },
    {
      "cell_type": "code",
      "source": [
        "%rm -f json_output/*.json"
      ],
      "metadata": {
        "id": "jTq2_6Ah-DAG"
      },
      "execution_count": 184,
      "outputs": []
    },
    {
      "cell_type": "code",
      "source": [
        "%rm -rf *check*"
      ],
      "metadata": {
        "id": "PjIrDPtB-iWf"
      },
      "execution_count": 185,
      "outputs": []
    },
    {
      "cell_type": "code",
      "source": [
        "%rm -rf *output*"
      ],
      "metadata": {
        "id": "vyj0qupO58uu"
      },
      "execution_count": 187,
      "outputs": []
    },
    {
      "cell_type": "code",
      "source": [
        "static_df= spark.read.load(\"input/recentChanges1612.json\",format=\"json\",schema=dSchema)"
      ],
      "metadata": {
        "id": "zwXVjOQUx9GQ"
      },
      "execution_count": null,
      "outputs": []
    },
    {
      "cell_type": "code",
      "source": [
        "static_df.select(\"meta_dt\").show(15)"
      ],
      "metadata": {
        "id": "OKvaFPb3q75_"
      },
      "execution_count": null,
      "outputs": []
    },
    {
      "cell_type": "code",
      "source": [
        "static_df.dtypes"
      ],
      "metadata": {
        "id": "RcrLTtfqU8GE",
        "colab": {
          "base_uri": "https://localhost:8080/"
        },
        "outputId": "e809df76-f52d-43c8-cefb-78dd5dbe95c0",
        "collapsed": true
      },
      "execution_count": null,
      "outputs": [
        {
          "output_type": "execute_result",
          "data": {
            "text/plain": [
              "[('$Schema', 'string'),\n",
              " ('id', 'int'),\n",
              " ('type', 'string'),\n",
              " ('namespace', 'int'),\n",
              " ('title', 'string'),\n",
              " ('title_url', 'string'),\n",
              " ('comment', 'string'),\n",
              " ('timestamp', 'int'),\n",
              " ('user', 'string'),\n",
              " ('bot', 'boolean'),\n",
              " ('log_id', 'int'),\n",
              " ('log_type', 'string'),\n",
              " ('log_action', 'string'),\n",
              " ('log_action_comment', 'string'),\n",
              " ('server_url', 'string'),\n",
              " ('server_name', 'string'),\n",
              " ('server_script_path', 'string'),\n",
              " ('wiki', 'string'),\n",
              " ('parsedcomment', 'string'),\n",
              " ('meta_uri', 'string'),\n",
              " ('meta_request_id', 'string'),\n",
              " ('meta_id', 'string'),\n",
              " ('meta_dt', 'timestamp'),\n",
              " ('meta_domain', 'string'),\n",
              " ('meta_stream', 'string'),\n",
              " ('meta_topic', 'string'),\n",
              " ('meta_partition', 'int'),\n",
              " ('meta_offset', 'int'),\n",
              " ('log_params_userid', 'int')]"
            ]
          },
          "metadata": {},
          "execution_count": 194
        }
      ]
    },
    {
      "cell_type": "markdown",
      "source": [
        "# Structured Streaming"
      ],
      "metadata": {
        "id": "EqSj76u5Bieg"
      }
    },
    {
      "cell_type": "code",
      "source": [
        "#create Dataframe representing the stream of input lines from connection to localhost:9999\n",
        "recentChange = spark.readStream.format(\"json\").schema(dSchema).load(\"input\")\n"
      ],
      "metadata": {
        "id": "Dsw8A9vlktFH"
      },
      "execution_count": 8,
      "outputs": []
    },
    {
      "cell_type": "code",
      "source": [
        "recentChange.isStreaming"
      ],
      "metadata": {
        "id": "z6ngMdH23l9w",
        "colab": {
          "base_uri": "https://localhost:8080/"
        },
        "outputId": "2a89ae22-558b-447e-e590-2b7b20e31a2f"
      },
      "execution_count": 9,
      "outputs": [
        {
          "output_type": "execute_result",
          "data": {
            "text/plain": [
              "True"
            ]
          },
          "metadata": {},
          "execution_count": 9
        }
      ]
    },
    {
      "cell_type": "code",
      "source": [
        "rc_df = recentChange.withColumn(\"meta_dt\", recentChange.meta_dt.cast(T.TimestampType()))\n",
        "rc_df"
      ],
      "metadata": {
        "colab": {
          "base_uri": "https://localhost:8080/"
        },
        "id": "KST1sBJO82hG",
        "outputId": "caf28fc5-997b-4a1a-8d08-5c1bd6fbb855"
      },
      "execution_count": null,
      "outputs": [
        {
          "output_type": "execute_result",
          "data": {
            "text/plain": [
              "DataFrame[$Schema: string, id: int, type: string, namespace: int, title: string, title_url: string, comment: string, timestamp: int, user: string, bot: boolean, log_id: int, log_type: string, log_action: string, log_action_comment: string, server_url: string, server_name: string, server_script_path: string, wiki: string, parsedcomment: string, meta_uri: string, meta_request_id: string, meta_id: string, meta_dt: timestamp, meta_domain: string, meta_stream: string, meta_topic: string, meta_partition: int, meta_offset: int, log_params_userid: int]"
            ]
          },
          "metadata": {},
          "execution_count": 83
        }
      ]
    },
    {
      "cell_type": "code",
      "source": [
        "# Assuming 'recentChange' is your streaming DataFrame\n",
        "myquery = recentChange\\\n",
        "  .withColumn(\"meta_dt\", recentChange.meta_dt.cast(T.TimestampType()))\\\n",
        "  .withWatermark(\"meta_dt\", \"20 minutes\")\\\n",
        "  .groupBy(F.window(\"meta_dt\",\"2 minutes\")\\\n",
        "         , \"type\")\\\n",
        "  .count()\\\n",
        "  .writeStream\\\n",
        "  .format(\"csv\")\\\n",
        "  .outputMode(\"append\")\\\n",
        "  .option(\"path\", \"output\")\\\n",
        "  .option(\"header\",\"true\")\\\n",
        "  .option(\"checkpointLocation\", \"checkpoint_dir\")\\\n",
        "  .start()\n",
        "\n"
      ],
      "metadata": {
        "id": "iMpk9pUSOiJG"
      },
      "execution_count": 93,
      "outputs": []
    },
    {
      "cell_type": "code",
      "source": [
        "%ls -lrt output"
      ],
      "metadata": {
        "colab": {
          "base_uri": "https://localhost:8080/"
        },
        "id": "Ots1IUvu-8P7",
        "outputId": "75c49e1b-a5db-4763-e572-e49a2ac22384"
      },
      "execution_count": 102,
      "outputs": [
        {
          "output_type": "stream",
          "name": "stdout",
          "text": [
            "total 4\n",
            "drwxr-xr-x 2 root root 4096 Sep 11 11:31 \u001b[0m\u001b[01;34m_spark_metadata\u001b[0m/\n"
          ]
        }
      ]
    },
    {
      "cell_type": "code",
      "source": [
        "myquery.stop()"
      ],
      "metadata": {
        "id": "Hc6btCw3kOoG"
      },
      "execution_count": 103,
      "outputs": []
    },
    {
      "cell_type": "code",
      "source": [
        "inmemoryQuery = recentChange\\\n",
        "  .withColumn(\"meta_dt\", recentChange.meta_dt.cast(T.TimestampType()))\\\n",
        "  .groupBy(F.window(\"meta_dt\",\"1 minutes\"), \"type\")\\\n",
        "  .count()\\\n",
        "  .writeStream\\\n",
        "  .queryName(\"myquery\")\\\n",
        "  .format(\"memory\")\\\n",
        "  .outputMode(\"complete\")\\\n",
        "  .start()"
      ],
      "metadata": {
        "id": "ETsu-DJmOyRv"
      },
      "execution_count": null,
      "outputs": []
    },
    {
      "cell_type": "code",
      "source": [
        "spark.sql(\"select * from myquery order by type\").show(truncate=False)"
      ],
      "metadata": {
        "id": "bw9804hHQiBj"
      },
      "execution_count": null,
      "outputs": []
    },
    {
      "cell_type": "code",
      "source": [
        "inmemoryQuery.stop()"
      ],
      "metadata": {
        "id": "3rYeooV7WG_5"
      },
      "execution_count": 56,
      "outputs": []
    },
    {
      "cell_type": "code",
      "source": [
        "%ls -lr input"
      ],
      "metadata": {
        "id": "z8wLp1XYJNN5"
      },
      "execution_count": null,
      "outputs": []
    },
    {
      "cell_type": "markdown",
      "source": [
        "#Testing"
      ],
      "metadata": {
        "id": "D_qDbv_V5Bk-"
      }
    },
    {
      "cell_type": "code",
      "source": [
        "rate_df = spark.readStream.format(\"rate\").option(\"rowsPerSecond\", 100).load()"
      ],
      "metadata": {
        "id": "1mPuy8MI5FqF"
      },
      "execution_count": 202,
      "outputs": []
    },
    {
      "cell_type": "code",
      "source": [
        "rate_df.printSchema()"
      ],
      "metadata": {
        "colab": {
          "base_uri": "https://localhost:8080/"
        },
        "id": "3PnTx76c5yxu",
        "outputId": "5d759252-a6bd-48da-84e5-3e090d8eb006"
      },
      "execution_count": 189,
      "outputs": [
        {
          "output_type": "stream",
          "name": "stdout",
          "text": [
            "root\n",
            " |-- timestamp: timestamp (nullable = true)\n",
            " |-- value: long (nullable = true)\n",
            "\n"
          ]
        }
      ]
    },
    {
      "cell_type": "code",
      "source": [
        "rate_df.writeStream.format(\"memory\").queryName(\"query_name\").outputMode(\"append\").start()"
      ],
      "metadata": {
        "id": "JCnz7Bwe5_wW"
      },
      "execution_count": null,
      "outputs": []
    },
    {
      "cell_type": "code",
      "source": [
        "spark.sql(\"select * from query_name\").show(truncate=False)"
      ],
      "metadata": {
        "id": "j69J9MyY6g8T"
      },
      "execution_count": null,
      "outputs": []
    },
    {
      "cell_type": "code",
      "source": [
        "json_rate_df=rate_df.withWatermark(\"timestamp\", \"5 minutes\")\\\n",
        ".groupBy(F.window(\"timestamp\",\"1 minutes\"))\\\n",
        ".count()\\\n",
        ".writeStream.format(\"json\").option(\"path\", \"json_output\").option(\"checkpointLocation\", \"checkpoint_dir_json\")\\\n",
        ".trigger(processingTime=\"3 minutes\")\\\n",
        ".start()"
      ],
      "metadata": {
        "id": "xejhQhI368-O"
      },
      "execution_count": 203,
      "outputs": []
    },
    {
      "cell_type": "code",
      "source": [
        "datetime.datetime.strftime(datetime.datetime.utcnow(),\"%Y-%m-%d %H:%M:%S\")"
      ],
      "metadata": {
        "colab": {
          "base_uri": "https://localhost:8080/",
          "height": 36
        },
        "id": "VZB54Xn6UUgu",
        "outputId": "08837915-f5f7-49a0-950d-967fbc4e9e3f"
      },
      "execution_count": 191,
      "outputs": [
        {
          "output_type": "execute_result",
          "data": {
            "text/plain": [
              "'2024-09-11 15:05:24'"
            ],
            "application/vnd.google.colaboratory.intrinsic+json": {
              "type": "string"
            }
          },
          "metadata": {},
          "execution_count": 191
        }
      ]
    },
    {
      "cell_type": "code",
      "source": [
        "%ls --full-time -lrt  json_output"
      ],
      "metadata": {
        "colab": {
          "base_uri": "https://localhost:8080/"
        },
        "id": "VLwHdrqC8a40",
        "outputId": "8099cd3e-78b0-4a39-d6d0-d15e0865a278"
      },
      "execution_count": 213,
      "outputs": [
        {
          "output_type": "stream",
          "name": "stdout",
          "text": [
            "total 40\n",
            "-rw-r--r-- 1 root root    0 2024-09-11 15:05:18.714928525 +0000 part-00000-a7dd3eee-c968-4ddd-b598-24d4d69344ae-c000.json\n",
            "-rw-r--r-- 1 root root    0 2024-09-11 15:06:00.222929238 +0000 part-00000-80440d50-86ca-404f-8480-b8f07b5909a9-c000.json\n",
            "-rw-r--r-- 1 root root    0 2024-09-11 15:09:00.213277456 +0000 part-00000-a05b2607-333f-4d34-a794-94d039c465f0-c000.json\n",
            "-rw-r--r-- 1 root root    0 2024-09-11 15:11:50.316672729 +0000 part-00000-4ad91a5d-7aa1-4475-a033-03dfca0769bb-c000.json\n",
            "-rw-r--r-- 1 root root    0 2024-09-11 15:12:00.343639167 +0000 part-00000-af86b9c7-5a08-4c6d-ac8c-c4b9d5b80840-c000.json\n",
            "-rw-r--r-- 1 root root   92 2024-09-11 15:12:00.485652855 +0000 part-00002-fcd693e7-aec8-438c-b5d0-c0fad4df0dd4-c000.json\n",
            "-rw-r--r-- 1 root root    0 2024-09-11 15:15:00.203974861 +0000 part-00000-0fbea853-a675-4bc2-90e1-e965fe3a0983-c000.json\n",
            "-rw-r--r-- 1 root root   92 2024-09-11 15:18:00.554357779 +0000 part-00001-29524609-ada2-431e-a86c-2c7e860bd465-c000.json\n",
            "-rw-r--r-- 1 root root   93 2024-09-11 15:18:00.612363370 +0000 part-00000-42c98e3b-0b9c-4792-95cf-646e04feed85-c000.json\n",
            "-rw-r--r-- 1 root root   92 2024-09-11 15:18:00.911392192 +0000 part-00003-b3eb35a6-b75c-467f-9390-6a68fa5fb8d0-c000.json\n",
            "-rw-r--r-- 1 root root    0 2024-09-11 15:21:00.408692846 +0000 part-00000-70fc87ff-4ce2-4130-b3be-5151c2a792fc-c000.json\n",
            "-rw-r--r-- 1 root root   94 2024-09-11 15:21:00.529704509 +0000 part-00001-cd968084-506a-474a-8d69-9b8945d5184b-c000.json\n",
            "-rw-r--r-- 1 root root   94 2024-09-11 15:21:00.766727354 +0000 part-00003-fa1640c2-86b7-41bc-8761-14c7eea5b81c-c000.json\n",
            "-rw-r--r-- 1 root root   94 2024-09-11 15:21:00.814731981 +0000 part-00002-3bf7caba-760f-455b-a6dd-5d02de292387-c000.json\n",
            "-rw-r--r-- 1 root root    0 2024-09-11 15:24:00.213023065 +0000 part-00000-cfe545d3-504b-4007-9680-473a73338021-c000.json\n",
            "-rw-r--r-- 1 root root   94 2024-09-11 15:24:00.539054489 +0000 part-00003-37026b95-0fbe-431f-9cae-5a96a73278e2-c000.json\n",
            "-rw-r--r-- 1 root root  188 2024-09-11 15:24:00.598060176 +0000 part-00002-70c4bd8c-ed49-402f-a95a-6c4545de077e-c000.json\n",
            "drwxr-xr-x 2 root root 4096 2024-09-11 15:24:00.901089384 +0000 \u001b[0m\u001b[01;34m_spark_metadata\u001b[0m/\n"
          ]
        }
      ]
    },
    {
      "cell_type": "code",
      "source": [
        "json_rate_df.stop()"
      ],
      "metadata": {
        "id": "XiEVeMTG8uB9"
      },
      "execution_count": 215,
      "outputs": []
    },
    {
      "cell_type": "code",
      "source": [
        "%cat json_output/part-00002-70c4bd8c-ed49-402f-a95a-6c4545de077e-c000.json"
      ],
      "metadata": {
        "colab": {
          "base_uri": "https://localhost:8080/"
        },
        "id": "if6Fo3nV8yps",
        "outputId": "8814378c-8cc5-43a6-aa75-f93fabc213aa"
      },
      "execution_count": 214,
      "outputs": [
        {
          "output_type": "stream",
          "name": "stdout",
          "text": [
            "{\"window\":{\"start\":\"2024-09-11T15:13:00.000Z\",\"end\":\"2024-09-11T15:14:00.000Z\"},\"count\":6000}\n",
            "{\"window\":{\"start\":\"2024-09-11T15:14:00.000Z\",\"end\":\"2024-09-11T15:15:00.000Z\"},\"count\":6000}\n"
          ]
        }
      ]
    },
    {
      "cell_type": "code",
      "source": [
        "%cat json_output/part-00091-42089495-424d-444d-9ede-f083acfd61dd-c000.json"
      ],
      "metadata": {
        "colab": {
          "base_uri": "https://localhost:8080/"
        },
        "id": "YdXR032hPTwW",
        "outputId": "586bc8d3-1087-4255-fe0e-6214a58382e6"
      },
      "execution_count": 176,
      "outputs": [
        {
          "output_type": "stream",
          "name": "stdout",
          "text": [
            "{\"window\":{\"start\":\"2024-09-11T14:27:00.000Z\",\"end\":\"2024-09-11T14:28:00.000Z\"},\"count\":600}\n"
          ]
        }
      ]
    },
    {
      "cell_type": "code",
      "source": [
        "%cat json_output/part-00075-f8c9962f-45e4-47ac-9a38-767593f31c98-c000.json"
      ],
      "metadata": {
        "colab": {
          "base_uri": "https://localhost:8080/"
        },
        "id": "P5L52iVWPujl",
        "outputId": "18665e1b-dc2b-4746-a204-a9e6f811a821"
      },
      "execution_count": 177,
      "outputs": [
        {
          "output_type": "stream",
          "name": "stdout",
          "text": [
            "{\"window\":{\"start\":\"2024-09-11T14:17:00.000Z\",\"end\":\"2024-09-11T14:18:00.000Z\"},\"count\":600}\n"
          ]
        }
      ]
    }
  ]
}